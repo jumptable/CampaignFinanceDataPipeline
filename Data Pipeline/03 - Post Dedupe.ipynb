{
 "cells": [
  {
   "cell_type": "markdown",
   "metadata": {},
   "source": [
    "## SETUP and Connections"
   ]
  },
  {
   "cell_type": "code",
   "execution_count": null,
   "metadata": {
    "scrolled": true
   },
   "outputs": [],
   "source": [
    "#pip install dj_database_url"
   ]
  },
  {
   "cell_type": "code",
   "execution_count": null,
   "metadata": {
    "scrolled": true
   },
   "outputs": [],
   "source": [
    "#pip install psycopg2-binary"
   ]
  },
  {
   "cell_type": "code",
   "execution_count": null,
   "metadata": {},
   "outputs": [],
   "source": [
    "#pip install unidecode"
   ]
  },
  {
   "cell_type": "code",
   "execution_count": null,
   "metadata": {},
   "outputs": [],
   "source": [
    "import csv\n",
    "import os\n",
    "import zipfile\n",
    "\n",
    "\n",
    "import dj_database_url\n",
    "import psycopg2\n",
    "import psycopg2.extras\n",
    "import unidecode\n",
    "import requests\n",
    "import re"
   ]
  },
  {
   "cell_type": "code",
   "execution_count": null,
   "metadata": {},
   "outputs": [],
   "source": [
    "conn = psycopg2.connect(database=\"campaign-finance\",\n",
    "                        user=\"data\",\n",
    "                       password=\"data\",\n",
    "                        host=\"postgresdb\",\n",
    "                        port=\"5432\")\n",
    "c = conn.cursor()"
   ]
  },
  {
   "cell_type": "markdown",
   "metadata": {},
   "source": [
    "## Apply Dedupe to transactions"
   ]
  },
  {
   "cell_type": "code",
   "execution_count": null,
   "metadata": {},
   "outputs": [],
   "source": [
    "print(\"updates canon account numbers on transactions where matches occured\")\n",
    "c.execute(\"UPDATE transactions \" \n",
    "                  \" set canon_account_id = entity_map.canon_id\" \n",
    "                  \" from entity_map \" \n",
    "                  \"where transactions.original_account_id = entity_map.original_id\")\n",
    "print(\"Done.\")\n",
    "conn.commit()"
   ]
  },
  {
   "cell_type": "code",
   "execution_count": null,
   "metadata": {},
   "outputs": [],
   "source": [
    "print(\"update canon account ids for those without a match\")\n",
    "c.execute(\"update transactions \" \n",
    "                  \" set canon_account_id = original_account_id \" \n",
    "                  \" where canon_account_id is null \" )\n",
    "print(\"Done.\")\n",
    "conn.commit()"
   ]
  },
  {
   "cell_type": "code",
   "execution_count": null,
   "metadata": {},
   "outputs": [],
   "source": [
    "print(\"set canon id flag on accounts table\")\n",
    "c.execute(\"update accounts \" \n",
    "                  \" set is_canon = 1 \" \n",
    "                  \" where account_id in (select distinct canon_account_id from transactions) \" )\n",
    "print(\"Done.\")\n",
    "conn.commit()"
   ]
  },
  {
   "cell_type": "code",
   "execution_count": null,
   "metadata": {},
   "outputs": [],
   "source": [
    "print(\"set canon id flag to zero on accounts not canon\")\n",
    "c.execute(\"update accounts \" \n",
    "                  \" set is_canon = 0 \" \n",
    "                  \" where is_canon is null \" )\n",
    "print(\"Done.\")\n",
    "conn.commit()"
   ]
  },
  {
   "cell_type": "code",
   "execution_count": null,
   "metadata": {},
   "outputs": [],
   "source": [
    "conn.commit()"
   ]
  },
  {
   "cell_type": "markdown",
   "metadata": {},
   "source": [
    "## Some committees don't have good IDs use committee name instead"
   ]
  },
  {
   "cell_type": "code",
   "execution_count": null,
   "metadata": {},
   "outputs": [],
   "source": [
    "print(\"fixing bad committee IDs\")\n",
    "c.execute(\"UPDATE committees \" \n",
    "                  \" set sboe_committee_id = name\" \n",
    "                  \" where sboe_committee_id = '---' \" )\n",
    "print(\"Done.\")\n",
    "conn.commit()"
   ]
  },
  {
   "cell_type": "code",
   "execution_count": null,
   "metadata": {},
   "outputs": [],
   "source": [
    "print(\"updates canon committee id on transactions \")\n",
    "c.execute(\"UPDATE transactions \" \n",
    "                  \" set canon_committee_sboe_id = original_committee_sboe_id\" \n",
    "                  )\n",
    "print(\"Done.\")\n",
    "conn.commit()"
   ]
  },
  {
   "cell_type": "markdown",
   "metadata": {},
   "source": [
    " ## User Friendly Views of contributions and expenditures"
   ]
  },
  {
   "cell_type": "code",
   "execution_count": null,
   "metadata": {},
   "outputs": [],
   "source": [
    "print(\"Creating Contributions View\")\n",
    "c.execute(\"CREATE VIEW contributions AS \"\n",
    "          \"(SELECT transactions.transaction_id AS trans_id, \"\n",
    "          \" transactions.original_committee_sboe_id AS original_receiver_id, \"\n",
    "          \" transactions.original_account_id AS original_source_id, \"\n",
    "          \" transactions.transaction_type, \"\n",
    "          \" transactions.transaction_category, \"\n",
    "          \" transactions.date_occured, \"\n",
    "          \" transactions.amount, \"\n",
    "          \" transactions.report_name, \"\n",
    "          \" transactions.account_code, \"\n",
    "          \" transactions.form_of_payment, \"\n",
    "          \" transactions.purpose, \"\n",
    "          \" transactions.candidate_referendum_name AS candidate_refereendum_name, \"\n",
    "          \" transactions.declaration, \"\n",
    "          \" transactions.canon_account_id AS canon_source_id, \"\n",
    "          \" transactions.canon_committee_sboe_id AS canon_receiver_id \"\n",
    "          \"FROM transactions \"\n",
    "          \" WHERE transactions.transaction_category = 'C' \"\n",
    "          \")\")     \n",
    "conn.commit()\n",
    "print(\"Done.\")"
   ]
  },
  {
   "cell_type": "code",
   "execution_count": null,
   "metadata": {},
   "outputs": [],
   "source": [
    "print(\"Creating Expenses View\")\n",
    "c.execute(\"CREATE VIEW expenses AS \"\n",
    "          \"SELECT transactions.transaction_id AS trans_id, \"\n",
    "          \" transactions.original_committee_sboe_id AS orginal_source_id, \"\n",
    "          \" transactions.original_account_id AS original_receiver_id, \"\n",
    "          \" transactions.transaction_type, \"\n",
    "          \" transactions.transaction_category, \"\n",
    "          \" transactions.date_occured, \"\n",
    "          \" transactions.amount, \"\n",
    "          \" transactions.report_name, \"\n",
    "          \" transactions.account_code, \"\n",
    "          \" transactions.form_of_payment, \"\n",
    "          \" transactions.purpose, \"\n",
    "          \" transactions.candidate_referendum_name AS candidate_refereendum_name, \"\n",
    "          \" transactions.declaration, \"\n",
    "          \" transactions.canon_committee_sboe_id AS canon_source_id, \"\n",
    "          \" transactions.canon_account_id AS canon_receiver_id \"\n",
    "          \"FROM transactions \"\n",
    "          \"WHERE transactions.transaction_category = 'E' \")  \n",
    "conn.commit()\n",
    "print(\"Done.\")"
   ]
  },
  {
   "cell_type": "code",
   "execution_count": null,
   "metadata": {},
   "outputs": [],
   "source": [
    "print(\"Creating Contributions with Names View\")\n",
    "c.execute(\"CREATE VIEW  contributions_with_names AS \"\n",
    "          \"SELECT contributions.trans_id AS transaction_id, \"\n",
    "          \" accounts.account_id AS source_id, \"\n",
    "          \" accounts.name AS source_name, \"\n",
    "          \" committees.comm_id AS receiver_id, \"\n",
    "          \" committees.name AS receiver_name, \"\n",
    "          \" contributions.transaction_type, \"\n",
    "          \" contributions.transaction_category, \"\n",
    "          \" contributions.date_occured, \"\n",
    "          \" contributions.amount \"\n",
    "          \"FROM contributions \"\n",
    "          \" INNER JOIN committees ON contributions.canon_receiver_id = committees.sboe_committee_id \"\n",
    "          \" INNER JOIN accounts ON contributions.canon_source_id = accounts.account_id \")\n",
    "conn.commit()\n",
    "print(\"Done.\")"
   ]
  },
  {
   "cell_type": "code",
   "execution_count": null,
   "metadata": {},
   "outputs": [],
   "source": [
    "print(\"Creating Expenses with Names View\")\n",
    "c.execute(\"CREATE VIEW  expenses_with_names AS \"\n",
    "          \"SELECT expenses.trans_id AS transaction_id, \"\n",
    "          \" committees.comm_id AS source_id, \"\n",
    "          \" committees.name AS source_name, \"\n",
    "          \" accounts.account_id AS receiver_id, \"\n",
    "          \" accounts.name AS receiver_name, \"\n",
    "          \" expenses.transaction_type, \"\n",
    "          \" expenses.transaction_category, \"\n",
    "          \" expenses.date_occured, \"\n",
    "          \" expenses.amount \"\n",
    "          \"FROM expenses \"\n",
    "          \" INNER JOIN committees ON expenses.canon_source_id = committees.sboe_committee_id \"\n",
    "          \" INNER JOIN accounts ON expenses.canon_receiver_id = accounts.account_id \")\n",
    "conn.commit()\n",
    "print(\"Done.\")"
   ]
  },
  {
   "cell_type": "code",
   "execution_count": null,
   "metadata": {},
   "outputs": [],
   "source": [
    "print(\"Additional Info regarding accounts - is vendor\")\n",
    "c.execute(\"UPDATE accounts  \"\n",
    "          \" SET is_vendor = 1 WHERE account_id in ( \"\n",
    "          \" SELECT distinct canon_receiver_id \"\n",
    "          \" FROM public.expenses )\")\n",
    "conn.commit()\n",
    "print(\"Done.\")"
   ]
  },
  {
   "cell_type": "code",
   "execution_count": null,
   "metadata": {
    "scrolled": true
   },
   "outputs": [],
   "source": [
    "print(\"Additional Info regarding accounts - is donor\")\n",
    "c.execute(\"UPDATE accounts  \"\n",
    "          \" SET is_donor = 1 WHERE account_id in ( \"\n",
    "          \" SELECT distinct canon_source_id \"\n",
    "          \" FROM public.contributions )\")\n",
    "conn.commit()\n",
    "print(\"Done.\")"
   ]
  },
  {
   "cell_type": "markdown",
   "metadata": {},
   "source": [
    "## Process and clean additional Committee Data "
   ]
  },
  {
   "cell_type": "code",
   "execution_count": null,
   "metadata": {},
   "outputs": [],
   "source": [
    "print('creating committee list table...')\n",
    "c.execute(\"CREATE TABLE public.committee_list \"\n",
    "          \"(id SERIAL PRIMARY KEY, \"\n",
    "          \" sboeid_url VARCHAR(1024), \"\n",
    "          \" sboeid VARCHAR(1024), \"\n",
    "          \" status_url VARCHAR(1024), \"\n",
    "          \" status VARCHAR(1024), \"\n",
    "          \" candidatename_parententityname_url VARCHAR(1024), \"\n",
    "          \" candidatename_parententityname VARCHAR(1024), \"\n",
    "          \" committeename_url VARCHAR(1024), \"\n",
    "          \" committeename VARCHAR(1024)) \")\n",
    "print(\"Done.\")"
   ]
  },
  {
   "cell_type": "code",
   "execution_count": null,
   "metadata": {},
   "outputs": [],
   "source": [
    "directory = os.fsencode(\"./data/committee_list\")\n",
    "    \n",
    "for filename in os.listdir(directory):\n",
    "    full_filename = os.path.join(directory, filename)\n",
    "    \n",
    "    with open(full_filename, 'rU') as csv_file: \n",
    "        c.copy_expert(\"COPY committee_list \" \n",
    "                  \"(committeename_url, committeename, \" \n",
    "                  \" sboeid_url, sboeid, \" \n",
    "                  \" status_url, status, \" \n",
    "                  \" candidatename_parententityname_url, candidatename_parententityname) \" \n",
    "                  \"FROM STDIN CSV HEADER\", csv_file)\n",
    "\n",
    "    conn.commit()\n",
    "print(\"Done.\") "
   ]
  },
  {
   "cell_type": "code",
   "execution_count": null,
   "metadata": {},
   "outputs": [],
   "source": [
    "print('creating committee doc list table...')\n",
    "c.execute(\"CREATE TABLE public.committee_doc_list \"\n",
    "          \"(doc_id SERIAL PRIMARY KEY, \"\n",
    "          \" committee_name VARCHAR(200), \"\n",
    "          \" year VARCHAR(4), \"\n",
    "          \" sboe_committee_id VARCHAR(200), \"\n",
    "          \" doctype VARCHAR(200), \"\n",
    "          \" docname VARCHAR(200), \"\n",
    "          \" receivedimage VARCHAR(50), \"\n",
    "          \" startdate VARCHAR(50), \"\n",
    "          \" enddate VARCHAR(50), \"\n",
    "          \" image VARCHAR(200), \"\n",
    "          \" image_url VARCHAR(2000), \"\n",
    "          \" data_text VARCHAR(200), \"\n",
    "          \" data_url VARCHAR(2000))\")\n",
    "print(\"Done.\")"
   ]
  },
  {
   "cell_type": "code",
   "execution_count": null,
   "metadata": {},
   "outputs": [],
   "source": [
    "directory = os.fsencode(\"./data/committee_doc_list\")\n",
    "    \n",
    "for filename in os.listdir(directory):\n",
    "    full_filename = os.path.join(directory, filename)\n",
    "    print(full_filename)\n",
    "    with open(full_filename, 'rU') as csv_file: \n",
    "        c.copy_expert(\"COPY committee_doc_list \" \n",
    "                  \"(committee_name, year, \" \n",
    "                  \" doctype, docname, \" \n",
    "                  \" receivedimage, startdate, enddate, \" \n",
    "                  \" image_url, image, \"\n",
    "                  \" data_text, data_url) \" \n",
    "                  \"FROM STDIN CSV HEADER\", csv_file)\n",
    "\n",
    "    conn.commit()\n",
    "\n",
    "print(\"Done.\")    "
   ]
  },
  {
   "cell_type": "code",
   "execution_count": null,
   "metadata": {},
   "outputs": [],
   "source": [
    "print('fixing committee ids ...')\n",
    "c.execute(\"update committee_doc_list \"\n",
    "          \"set committee_name = split_part(committee_name, '[', 1), \"\n",
    "          \" sboe_committee_id = substring(split_part(committee_name, '[', 2), 1, 16) \"\n",
    "          )\n",
    "print(\"Done.\")"
   ]
  },
  {
   "cell_type": "markdown",
   "metadata": {},
   "source": [
    "## Begin matching committees to candidates ##"
   ]
  },
  {
   "cell_type": "code",
   "execution_count": null,
   "metadata": {},
   "outputs": [],
   "source": [
    "print('creating active candidate committees list table...')\n",
    "c.execute(\"CREATE TABLE public.active_candidate_committees \"\n",
    "          \"(id SERIAL PRIMARY KEY, \"\n",
    "          \" sboe_id VARCHAR(200), \"\n",
    "          \" current_status VARCHAR(200), \"\n",
    "          \" committee_name VARCHAR(200), \"\n",
    "          \" committee_type VARCHAR(200), \"\n",
    "          \" committee_street_1 VARCHAR(1024), \"\n",
    "          \" committee_street_2 VARCHAR(1024), \"\n",
    "          \" committee_city VARCHAR(200), \"\n",
    "          \" committee_state VARCHAR(50), \"\n",
    "          \" committee_full_zip VARCHAR(50), \"\n",
    "          \" candidate_first_name VARCHAR(200), \"\n",
    "          \" candidate_middle_name VARCHAR(200), \"\n",
    "          \" candidate_last_name VARCHAR(200), \"\n",
    "          \" treasurer_first_name VARCHAR(200), \"\n",
    "          \" treasurer_middle_name VARCHAR(200), \"\n",
    "          \" treasurer_last_name VARCHAR(200), \"\n",
    "          \" treasurer_email VARCHAR(200), \"\n",
    "          \" asst_treasurer_first_name VARCHAR(200), \"\n",
    "          \" asst_treasurer_middle_name VARCHAR(200), \"\n",
    "          \" asst_treasurer_last_name VARCHAR(200), \"\n",
    "          \" asst_treasurer_email VARCHAR(200), \"\n",
    "          \" treasurer_street_1 VARCHAR(200), \"\n",
    "          \" treasurer_street_2 VARCHAR(200), \"\n",
    "          \" treasurer_city VARCHAR(200), \"\n",
    "          \" treasurer_state VARCHAR(200), \"\n",
    "          \" treasurer_full_zip VARCHAR(200), \"\n",
    "          \" party VARCHAR(200), \"\n",
    "          \" office VARCHAR(200), \"\n",
    "          \" juris VARCHAR(200))\")\n",
    "print(\"Done.\")"
   ]
  },
  {
   "cell_type": "code",
   "execution_count": null,
   "metadata": {},
   "outputs": [],
   "source": [
    "conn.commit()"
   ]
  },
  {
   "cell_type": "code",
   "execution_count": null,
   "metadata": {},
   "outputs": [],
   "source": [
    "directory = os.fsencode(\"./data/active_committee_list\")\n",
    "    \n",
    "for filename in os.listdir(directory):\n",
    "    full_filename = os.path.join(directory, filename)\n",
    "    print(full_filename)\n",
    "    with open(full_filename, 'rU') as csv_file: \n",
    "        c.copy_expert(\"COPY active_candidate_committees \" \n",
    "                  \"( sboe_id, \"\n",
    "                      \"current_status, \"\n",
    "                      \"committee_name, \"\n",
    "                      \"committee_type, \"\n",
    "                      \"committee_street_1, \"\n",
    "                      \"committee_street_2, \"\n",
    "                      \"committee_city, \"\n",
    "                      \"committee_state, \"\n",
    "                      \"committee_full_zip, \"\n",
    "                      \"candidate_first_name, \"\n",
    "                      \"candidate_middle_name, \"\n",
    "                      \"candidate_last_name, \"\n",
    "                      \"treasurer_first_name, \"\n",
    "                      \"treasurer_middle_name, \"\n",
    "                      \"treasurer_last_name, \"\n",
    "                      \"treasurer_email, \"\n",
    "            \n",
    "                      \"asst_treasurer_first_name, \"\n",
    "                      \"asst_treasurer_middle_name, \"\n",
    "                      \"asst_treasurer_last_name, \"\n",
    "                      \"asst_treasurer_email, \"\n",
    "                      \"treasurer_street_1, \"\n",
    "                      \"treasurer_street_2, \"\n",
    "                      \"treasurer_city, \"\n",
    "                      \"treasurer_state, \"\n",
    "                      \"treasurer_full_zip, \"\n",
    "                      \"party, \"\n",
    "                      \"office, \"\n",
    "                      \"juris) \" \n",
    "                  \"FROM STDIN CSV HEADER\", csv_file)\n",
    "    conn.commit()\n",
    "\n",
    "print(\"Done.\")   "
   ]
  },
  {
   "cell_type": "markdown",
   "metadata": {},
   "source": [
    "## Update the committee table with info from active candidate committees"
   ]
  },
  {
   "cell_type": "markdown",
   "metadata": {},
   "source": [
    "print(\"applying active candiate info to committees - jurisdiction\")\n",
    "c.execute(\"UPDATE committees \" \n",
    "                  \" set juris = acc.juris \" \n",
    "                  \" from active_candidate_committees acc where committees.sboe_committee_id = acc.sboe_id \" )\n",
    "print(\"Done.\")\n",
    "conn.commit()"
   ]
  },
  {
   "cell_type": "markdown",
   "metadata": {},
   "source": [
    "print(\"applying active candiate info to committees - party\")\n",
    "c.execute(\"UPDATE committees \" \n",
    "                  \" set party = acc.party \" \n",
    "                  \" from active_candidate_committees acc where committees.sboe_committee_id = acc.sboe_id \" )\n",
    "print(\"Done.\")\n",
    "conn.commit()"
   ]
  },
  {
   "cell_type": "markdown",
   "metadata": {},
   "source": [
    "print(\"applying active candiate info to committees - office\")\n",
    "c.execute(\"UPDATE committees \" \n",
    "                  \" set office = acc.office \" \n",
    "                  \" from active_candidate_committees acc where committees.sboe_committee_id = acc.sboe_id \" )\n",
    "print(\"Done.\")\n",
    "conn.commit()"
   ]
  },
  {
   "cell_type": "code",
   "execution_count": null,
   "metadata": {},
   "outputs": [],
   "source": [
    "print(\"applying active candiate info to committees - candidate_id\")\n",
    "c.execute(\"UPDATE committees \" \n",
    "                  \" set candidate_id = acc.id \" \n",
    "                  \" from active_candidate_committees acc where committees.sboe_committee_id = acc.sboe_id \" )\n",
    "print(\"Done.\")\n",
    "conn.commit()"
   ]
  },
  {
   "cell_type": "code",
   "execution_count": null,
   "metadata": {},
   "outputs": [],
   "source": [
    "print(\"applying active candiate info to committees - treasurer_id\")\n",
    "c.execute(\"UPDATE committees \" \n",
    "                  \" set treasurer_id = acc.id \" \n",
    "                  \" from active_candidate_committees acc where committees.sboe_committee_id = acc.sboe_id \" )\n",
    "print(\"Done.\")\n",
    "conn.commit()"
   ]
  },
  {
   "cell_type": "code",
   "execution_count": null,
   "metadata": {},
   "outputs": [],
   "source": [
    "print(\"applying active candiate info to committees - asst_treasurer_id\")\n",
    "c.execute(\"UPDATE committees \" \n",
    "                  \" set asst_treasurer_id = acc.id \" \n",
    "                  \" from active_candidate_committees acc where committees.sboe_committee_id = acc.sboe_id \" )\n",
    "print(\"Done.\")\n",
    "conn.commit()"
   ]
  },
  {
   "cell_type": "markdown",
   "metadata": {},
   "source": [
    "## Pivot the active candidate committees to committee_persons"
   ]
  },
  {
   "cell_type": "code",
   "execution_count": null,
   "metadata": {},
   "outputs": [],
   "source": [
    "conn.commit()"
   ]
  },
  {
   "cell_type": "code",
   "execution_count": null,
   "metadata": {},
   "outputs": [],
   "source": [
    "print('creating active committee person list table...')\n",
    "c.execute(\"CREATE TABLE public.committee_person \"\n",
    "          \"(id SERIAL PRIMARY KEY, \"\n",
    "          \" first_name VARCHAR(200), \"\n",
    "          \" middle_name VARCHAR(200), \"\n",
    "          \" last_name VARCHAR(200), \"\n",
    "          \" street_1 VARCHAR(200), \"\n",
    "          \" street_2 VARCHAR(1024), \"\n",
    "          \" city VARCHAR(1024), \"\n",
    "          \" state VARCHAR(200), \"\n",
    "          \" full_zip VARCHAR(50), \"\n",
    "          \" email VARCHAR(50), \"\n",
    "          \" role INT, \"\n",
    "          \" committee_id VARCHAR(50))\")\n",
    "conn.commit()\n",
    "print(\"Done.\")"
   ]
  },
  {
   "cell_type": "code",
   "execution_count": null,
   "metadata": {
    "scrolled": true
   },
   "outputs": [],
   "source": [
    "print(\"applying active candiate info to committee person table - treasurer\")\n",
    "c.execute(\"INSERT INTO public.committee_person \" \n",
    "                  \" (first_name, middle_name, last_name, street_1, street_2, city, state, full_zip, email, role, committee_id) \" \n",
    "                  \" SELECT treasurer_first_name, treasurer_middle_name, treasurer_last_name, \"\n",
    "                  \" treasurer_street_1, treasurer_street_2, treasurer_city, treasurer_state, \"\n",
    "                  \" treasurer_full_zip, treasurer_email, '2', sboe_id \" \n",
    "                  \"from active_candidate_committees\")\n",
    "print(\"Done.\")\n",
    "conn.commit()"
   ]
  },
  {
   "cell_type": "code",
   "execution_count": null,
   "metadata": {},
   "outputs": [],
   "source": [
    "print(\"applying active candiate info to committee person table - candidate\")\n",
    "c.execute(\"INSERT INTO public.committee_person \" \n",
    "                  \" (first_name, middle_name, last_name, street_1, street_2, city, state, full_zip, email, role, committee_id) \" \n",
    "                  \" SELECT candidate_first_name, candidate_middle_name, candidate_last_name, '', '', '', '', '', '', 1, sboe_id \"\n",
    "                  \"from active_candidate_committees\")\n",
    "print(\"Done.\")\n",
    "conn.commit()"
   ]
  },
  {
   "cell_type": "code",
   "execution_count": null,
   "metadata": {},
   "outputs": [],
   "source": [
    "print(\"applying active candiate info to committee person table - asst treasurer\")\n",
    "c.execute(\"INSERT INTO public.committee_person \" \n",
    "                  \" (first_name, middle_name, last_name, street_1, street_2, city, state, full_zip, email, role, committee_id) \" \n",
    "                  \" SELECT asst_treasurer_first_name, asst_treasurer_middle_name, asst_treasurer_last_name, '', '', '', '', '', '', 3, sboe_id \"\n",
    "                  \"from active_candidate_committees\")\n",
    "print(\"Done.\")\n",
    "conn.commit()"
   ]
  },
  {
   "cell_type": "code",
   "execution_count": null,
   "metadata": {
    "scrolled": true
   },
   "outputs": [],
   "source": [
    "print('creating candidates view...')\n",
    "c.execute(\"CREATE VIEW candidates AS \"\n",
    "          \"SELECT id, first_name, middle_name, last_name, \"\n",
    "          \" street_1, street_2, city, state, full_zip, \"\n",
    "          \" email, role, committee_id \"\n",
    "          \"FROM committee_person where role = 1\")\n",
    "conn.commit()\n",
    "print(\"Done.\")"
   ]
  },
  {
   "cell_type": "code",
   "execution_count": null,
   "metadata": {
    "scrolled": true
   },
   "outputs": [],
   "source": [
    "print('creating treasurers view...')\n",
    "c.execute(\"CREATE VIEW treasurers AS \"\n",
    "          \"SELECT id, first_name, middle_name, last_name, \"\n",
    "          \" street_1, street_2, city, state, full_zip, \"\n",
    "          \" email, role, committee_id \"\n",
    "          \"FROM public.committee_person where role = 2\")\n",
    "conn.commit()\n",
    "print(\"Done.\")"
   ]
  },
  {
   "cell_type": "code",
   "execution_count": null,
   "metadata": {},
   "outputs": [],
   "source": [
    "print('creating asst_treasurers view...')\n",
    "c.execute(\"CREATE VIEW asst_treasurers AS \"\n",
    "          \"SELECT id, first_name, middle_name, last_name, \"\n",
    "          \" street_1, street_2, city, state, full_zip, \"\n",
    "          \" email, role, committee_id \"\n",
    "          \"FROM public.committee_person where role = 3\")\n",
    "conn.commit()\n",
    "print(\"Done.\")"
   ]
  },
  {
   "cell_type": "code",
   "execution_count": null,
   "metadata": {},
   "outputs": [],
   "source": []
  }
 ],
 "metadata": {
  "kernelspec": {
   "display_name": "Python 3",
   "language": "python",
   "name": "python3"
  },
  "language_info": {
   "codemirror_mode": {
    "name": "ipython",
    "version": 3
   },
   "file_extension": ".py",
   "mimetype": "text/x-python",
   "name": "python",
   "nbconvert_exporter": "python",
   "pygments_lexer": "ipython3",
   "version": "3.9.2"
  }
 },
 "nbformat": 4,
 "nbformat_minor": 4
}

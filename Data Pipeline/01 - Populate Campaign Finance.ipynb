{
 "cells": [
  {
   "cell_type": "code",
   "execution_count": null,
   "metadata": {},
   "outputs": [],
   "source": [
    "#pip install psycopg2-binary"
   ]
  },
  {
   "cell_type": "code",
   "execution_count": null,
   "metadata": {},
   "outputs": [],
   "source": [
    "#pip install unidecode"
   ]
  },
  {
   "cell_type": "code",
   "execution_count": null,
   "metadata": {},
   "outputs": [],
   "source": [
    "import csv\n",
    "import os\n",
    "import zipfile\n",
    "\n",
    "import psycopg2\n",
    "import psycopg2.extras\n",
    "import unidecode\n",
    "import requests\n",
    "import re"
   ]
  },
  {
   "cell_type": "code",
   "execution_count": null,
   "metadata": {},
   "outputs": [],
   "source": [
    "conn = psycopg2.connect(database=\"campaign-finance\",\n",
    "                        user=\"data\",\n",
    "                       password=\"data\",\n",
    "                        host=\"postgresdb\",\n",
    "                        port=\"5432\")\n",
    "c = conn.cursor()"
   ]
  },
  {
   "cell_type": "markdown",
   "metadata": {},
   "source": [
    "## **Raw Tables**\n",
    "\n",
    "These are the files downloaded from the SBOE site transaction search, they only have to be imported once\n"
   ]
  },
  {
   "cell_type": "code",
   "execution_count": null,
   "metadata": {},
   "outputs": [],
   "source": [
    "print('creating raw_table table...')\n",
    "c.execute(\"CREATE TABLE raw_table \"\n",
    "          \"(trans_id SERIAL PRIMARY KEY, \"\n",
    "          \" name VARCHAR(200) DEFAULT '', \"\n",
    "          \" street_line_1 VARCHAR(200) DEFAULT '', street_line_2 VARCHAR(200) DEFAULT '', \"\n",
    "          \" city VARCHAR(200) DEFAULT '', state VARCHAR(15) DEFAULT '', \"\n",
    "          \" zip_code VARCHAR(11) DEFAULT '', occupation VARCHAR(200) DEFAULT '', \"\n",
    "          \" employer VARCHAR(200) DEFAULT '', transaction_type VARCHAR(200) DEFAULT '', \"\n",
    "          \" transaction_category VARCHAR(10) DEFAULT '', committee_name VARCHAR(200) DEFAULT '', \"\n",
    "          \" committee_sboe_id VARCHAR(200) DEFAULT '', committee_street_1 VARCHAR(200) DEFAULT '', \"\n",
    "          \" committee_street_2 VARCHAR(200) DEFAULT '', committee_city VARCHAR(200) DEFAULT '', \"\n",
    "          \" committee_state VARCHAR(200) DEFAULT '', committee_zip_code VARCHAR(200) DEFAULT '', \"\n",
    "          \" report_name character varying(200) DEFAULT '', date_occured VARCHAR(200) DEFAULT '', \"\n",
    "          \" account_code VARCHAR(200) DEFAULT '', amount VARCHAR(200) DEFAULT '', \"\n",
    "          \" form_of_payment VARCHAR(200) DEFAULT '', purpose VARCHAR(500) DEFAULT '', \"\n",
    "          \" candidate_referendum_name VARCHAR(200) DEFAULT '', declaration VARCHAR(200) DEFAULT '', \"\n",
    "          \" import_date DATE DEFAULT CURRENT_DATE\"\n",
    "          \" )\")\n",
    "\n",
    "print(\"Done.\")\n",
    "conn.commit()\n",
    "\n"
   ]
  },
  {
   "cell_type": "code",
   "execution_count": null,
   "metadata": {
    "scrolled": true
   },
   "outputs": [],
   "source": [
    "directory = os.fsencode(\"./data/raw_files/contributions\")\n",
    "    \n",
    "for filename in os.listdir(directory):\n",
    "    full_filename = os.path.join(directory, filename)\n",
    "    print(full_filename)\n",
    "    with open(full_filename, 'rU') as csv_file: \n",
    "        c.copy_expert(\"COPY raw_table \" \n",
    "                      \"(name, street_line_1, street_line_2, city, state, \" \n",
    "                      \" zip_code, occupation, employer, transaction_type, \" \n",
    "                      \" committee_name, committee_sboe_id, committee_street_1, \" \n",
    "                      \" committee_street_2, committee_city, committee_state, \" \n",
    "                      \"committee_zip_code, report_name, date_occured, account_code, \" \n",
    "                      \" amount, form_of_payment, purpose, candidate_referendum_name,\" \n",
    "                      \" declaration) \" \n",
    "                      \"FROM STDIN CSV HEADER\", csv_file)\n",
    "\n",
    "    conn.commit()\n",
    "\n",
    "print(\"Done.\")"
   ]
  },
  {
   "cell_type": "code",
   "execution_count": null,
   "metadata": {},
   "outputs": [],
   "source": [
    "print('fixing raw_table categories ...')\n",
    "c.execute(\"update raw_table \"\n",
    "          \"set transaction_category = 'C' \"\n",
    "          \"where transaction_category = ''\"\n",
    "          )\n",
    "print(\"Done.\")"
   ]
  },
  {
   "cell_type": "code",
   "execution_count": null,
   "metadata": {},
   "outputs": [],
   "source": [
    "conn.commit()"
   ]
  },
  {
   "cell_type": "code",
   "execution_count": null,
   "metadata": {},
   "outputs": [],
   "source": [
    "directory = os.fsencode(\"./data/raw_files/expenses\")\n",
    "    \n",
    "for filename in os.listdir(directory):\n",
    "    full_filename = os.path.join(directory, filename)\n",
    "    print(full_filename)\n",
    "    with open(full_filename, 'rU') as csv_file: \n",
    "        c.copy_expert(\"COPY raw_table \" \n",
    "                      \"(name, street_line_1, street_line_2, city, state, \" \n",
    "                      \" zip_code, occupation, employer, transaction_type, \" \n",
    "                      \" committee_name, committee_sboe_id, committee_street_1, \" \n",
    "                      \" committee_street_2, committee_city, committee_state, \" \n",
    "                      \"committee_zip_code, report_name, date_occured, account_code, \" \n",
    "                      \" amount, form_of_payment, purpose, candidate_referendum_name,\" \n",
    "                      \" declaration) \" \n",
    "                      \"FROM STDIN CSV HEADER\", csv_file)\n",
    "\n",
    "    conn.commit()\n",
    "\n",
    "print(\"Done.\")"
   ]
  },
  {
   "cell_type": "code",
   "execution_count": null,
   "metadata": {},
   "outputs": [],
   "source": [
    "print('fixing raw_table categories ...')\n",
    "c.execute(\"update raw_table \"\n",
    "          \"set transaction_category = 'E' \"\n",
    "          \" WHERE transaction_category <> 'C' \"\n",
    "          )\n",
    "print(\"Done.\")"
   ]
  },
  {
   "cell_type": "code",
   "execution_count": null,
   "metadata": {},
   "outputs": [],
   "source": [
    "conn.commit()"
   ]
  },
  {
   "cell_type": "markdown",
   "metadata": {},
   "source": [
    "## **Transaction Tables**\n",
    "\n",
    "We are parsing out the information from the raw tables into specific objects "
   ]
  },
  {
   "cell_type": "code",
   "execution_count": null,
   "metadata": {},
   "outputs": [],
   "source": [
    "print('creating accounts table...')\n",
    "c.execute(\"CREATE TABLE accounts \"\n",
    "          \"(account_id SERIAL PRIMARY KEY, \"\n",
    "          \" name VARCHAR(200) DEFAULT '' NOT NULL, \"\n",
    "          \" address_1 VARCHAR(200) DEFAULT '' NOT NULL, address_2 VARCHAR(200) DEFAULT '' NOT NULL, \"\n",
    "          \" city VARCHAR(200) DEFAULT '' NOT NULL, state VARCHAR(15) DEFAULT '' NOT NULL, \"\n",
    "          \" zip VARCHAR(11) DEFAULT '' NOT NULL, occupation VARCHAR(200) DEFAULT '' NOT NULL, \"\n",
    "          \" employer VARCHAR(200) DEFAULT '' NOT NULL, \"\n",
    "          \" is_canon INT, is_donor INT, is_vendor INT, is_person INT, is_organization INT,\"\n",
    "          \" lat REAL, lon REAL, census_block BIGINT, import_date TIMESTAMP\"\n",
    "          \" )\")\n",
    "\n"
   ]
  },
  {
   "cell_type": "code",
   "execution_count": null,
   "metadata": {},
   "outputs": [],
   "source": [
    "print(\"table created, inserting records\")\n",
    "c.execute(\"INSERT INTO accounts \"\n",
    "          \"(name, address_1, \"\n",
    "          \" address_2, city, state, zip, occupation, employer, import_date) \"\n",
    "          \"SELECT DISTINCT \"\n",
    "          \"COALESCE(UPPER(TRIM(name)), ''), \"\n",
    "          \"COALESCE(UPPER(TRIM(street_line_1)), ''), COALESCE(UPPER(TRIM(street_line_2)), ''), \"\n",
    "          \"COALESCE(UPPER(TRIM(city)), ''), COALESCE(UPPER(TRIM(state)), ''), COALESCE(UPPER(TRIM(zip_code)), ''), \"\n",
    "          \"COALESCE(UPPER(TRIM(occupation)), ''), COALESCE(UPPER(TRIM(employer)), ''), import_date \"\n",
    "          \"FROM raw_table\")\n",
    "\n",
    "print(\"Done.\")\n",
    "conn.commit()"
   ]
  },
  {
   "cell_type": "code",
   "execution_count": null,
   "metadata": {},
   "outputs": [],
   "source": [
    "print('creating indexes on accounts table...')\n",
    "c.execute(\"CREATE INDEX accounts_account_info ON accounts \"\n",
    "          \"(name, address_1, address_2, city, \"\n",
    "          \" state, zip)\")\n",
    "print(\"Done.\")\n",
    "conn.commit()"
   ]
  },
  {
   "cell_type": "code",
   "execution_count": null,
   "metadata": {},
   "outputs": [],
   "source": [
    "conn.commit()"
   ]
  },
  {
   "cell_type": "code",
   "execution_count": null,
   "metadata": {},
   "outputs": [],
   "source": [
    "print('creating committees table...')\n",
    "c.execute(\"CREATE TABLE committees \"\n",
    "          \"(comm_id SERIAL PRIMARY KEY, \"\n",
    "          \" sboe_committee_id VARCHAR(200), name VARCHAR(200), \"\n",
    "          \" address_1 VARCHAR(200), address_2 VARCHAR(200), \"\n",
    "          \" city VARCHAR(200), state VARCHAR(200), zip VARCHAR(200), \"\n",
    "          \" candidate_id INT, treasurer_id INT, asst_treasurer_id INT, import_date TIMESTAMP \"\n",
    "          \")\")\n",
    "print(\"inserting records\")\n",
    "c.execute(\"INSERT INTO committees \"\n",
    "          \"(sboe_committee_id, name, address_1, address_2, city, state, zip, import_date) \"\n",
    "          \"SELECT DISTINCT COALESCE(UPPER(TRIM(committee_sboe_id)), ''), \"\n",
    "          \"COALESCE(UPPER(TRIM(committee_name)), ''), COALESCE(UPPER(TRIM(committee_street_1)), ''), COALESCE(UPPER(TRIM(committee_street_2)), ''), \"\n",
    "          \"COALESCE(UPPER(TRIM(committee_city)), ''), COALESCE(UPPER(TRIM(committee_state)), ''), COALESCE(UPPER(TRIM(committee_zip_code)), ''), import_date \"\n",
    "          \"FROM raw_table\")\n",
    "\n",
    "print(\"Done.\")\n",
    "conn.commit()"
   ]
  },
  {
   "cell_type": "code",
   "execution_count": null,
   "metadata": {},
   "outputs": [],
   "source": [
    "print('creating transactions table...')\n",
    "c.execute(\"CREATE TABLE transactions \"\n",
    "                \"(transaction_id INT, original_committee_sboe_id VARCHAR(200), original_account_id INT,  \"\n",
    "                \" transaction_type VARCHAR(200), transaction_category VARCHAR(10), date_occured DATE, amount FLOAT, \"\n",
    "                \" report_name VARCHAR(200), account_code VARCHAR(200), form_of_payment VARCHAR(200), \"\n",
    "                \" purpose VARCHAR(500), candidate_referendum_name VARCHAR(200), declaration VARCHAR(200), \"\n",
    "                \"canon_account_id INT, canon_committee_sboe_id VARCHAR(200), import_date TIMESTAMP \"\n",
    "                \")\")\n",
    "print(\"Done.\")\n",
    "conn.commit()"
   ]
  },
  {
   "cell_type": "code",
   "execution_count": null,
   "metadata": {},
   "outputs": [],
   "source": [
    "print(\"Inserting transaction records\")\n",
    "c.execute(\"INSERT INTO transactions \"\n",
    "          \"(transaction_id, original_committee_sboe_id, original_account_id, \"\n",
    "          \" transaction_type, transaction_category, date_occured, amount, report_name, account_code, \"\n",
    "          \" form_of_payment, purpose, candidate_referendum_name, declaration)\"\n",
    "          \"SELECT trans_id, \"\n",
    "          \"COALESCE(UPPER(TRIM(committee_sboe_id)), ''), \"\n",
    "          \"accounts.account_id, \"\n",
    "          \"COALESCE(UPPER(TRIM(transaction_type)), ''), \"\n",
    "          \"COALESCE(UPPER(TRIM(transaction_category)), ''), \"\n",
    "          \"TO_DATE(TRIM(date_occured), 'MM/DD/YYYY'), \"\n",
    "          \"CAST(amount as DOUBLE PRECISION), \"\n",
    "          \"COALESCE(UPPER(TRIM(report_name)), ''), \"\n",
    "          \"COALESCE(UPPER(TRIM(account_code)), ''), \"\n",
    "          \"COALESCE(UPPER(TRIM(form_of_payment)), ''), \"\n",
    "          \"COALESCE(UPPER(TRIM(purpose)), ''), \"\n",
    "          \"COALESCE(UPPER(TRIM(candidate_referendum_name)), ''), \"\n",
    "          \"COALESCE(UPPER(TRIM(declaration)), '') \"\n",
    "          \"FROM raw_table LEFT JOIN accounts ON \"\n",
    "          \"accounts.name = COALESCE(UPPER(TRIM(raw_table.name)), '') AND \"\n",
    "          \"accounts.address_1 = COALESCE(UPPER(TRIM(raw_table.street_line_1)), '') AND \"\n",
    "          \"accounts.address_2 = COALESCE(UPPER(TRIM(raw_table.street_line_2)), '') AND \"\n",
    "          \"accounts.city = COALESCE(UPPER(TRIM(raw_table.city)), '') AND \"\n",
    "          \"accounts.state = COALESCE(UPPER(TRIM(raw_table.state)), '') AND \"\n",
    "          \"accounts.employer = COALESCE(UPPER(TRIM(raw_table.employer)), '') AND \"\n",
    "          \"accounts.occupation = COALESCE(UPPER(TRIM(raw_table.occupation)), '') AND \"\n",
    "          \"accounts.zip = COALESCE(UPPER(TRIM(raw_table.zip_code)), '')\")\n",
    "print(\"Done.\")\n",
    "conn.commit()"
   ]
  },
  {
   "cell_type": "code",
   "execution_count": null,
   "metadata": {},
   "outputs": [],
   "source": [
    "print('creating indexes on transactions...')\n",
    "c.execute(\"ALTER TABLE transactions ADD PRIMARY KEY(transaction_id)\")\n",
    "c.execute(\"CREATE INDEX donor_idx ON transactions (original_account_id)\")\n",
    "c.execute(\"CREATE INDEX committee_idx ON transactions (original_committee_sboe_id)\")\n",
    "c.execute(\"CREATE INDEX canon_donor_idx ON transactions (canon_account_id)\")\n",
    "print(\"Done.\")\n",
    "conn.commit()"
   ]
  },
  {
   "cell_type": "code",
   "execution_count": null,
   "metadata": {},
   "outputs": [],
   "source": [
    "print('creating processed_accounts...')\n",
    "c.execute(\"CREATE TABLE processed_accounts AS \"\n",
    "          \"(SELECT account_id, \"\n",
    "          \" CASE WHEN (name = '') \"\n",
    "          \"      THEN NULL \"\n",
    "          \"      ELSE LOWER(CONCAT_WS(' ', name)) \"\n",
    "          \" END AS name, \"  \n",
    "           \" CASE WHEN (address_1 = '' AND address_2 = '') \"\n",
    "          \"      THEN NULL \"\n",
    "          \"      ELSE LOWER(CONCAT_WS(' ', address_1, address_2)) \"\n",
    "          \" END AS address, \" \n",
    "          \" CASE WHEN (city = '') \"\n",
    "          \"      THEN NULL \"\n",
    "          \"      ELSE LOWER(city) \"\n",
    "          \" END AS city, \"\n",
    "          \" CASE WHEN (state = '') \"\n",
    "          \"      THEN NULL \"\n",
    "          \"      ELSE LOWER(state) \"\n",
    "          \" END AS state, \"\n",
    "          \" CASE WHEN (zip = '') \"\n",
    "          \"      THEN NULL \"\n",
    "          \"      ELSE LOWER(zip) \"\n",
    "          \" END AS zip, \"\n",
    "          \" CASE WHEN (occupation = '') \"\n",
    "          \"      THEN NULL \"\n",
    "          \"      ELSE LOWER(occupation) \" \n",
    "          \" END AS occupation, \"\n",
    "          \" CASE WHEN (employer = '') \"\n",
    "          \"      THEN NULL \"\n",
    "          \"      ELSE LOWER(employer) \"\n",
    "          \" END AS employer \"\n",
    "        \" FROM accounts)\")\n",
    "\n",
    "c.execute(\"CREATE INDEX processed_account_idx ON processed_accounts (account_id)\")\n",
    "print(\"Done.\")\n",
    "conn.commit()"
   ]
  },
  {
   "cell_type": "code",
   "execution_count": null,
   "metadata": {},
   "outputs": [],
   "source": [
    "print('creating processed_committees...')\n",
    "c.execute(\"CREATE TABLE processed_committees AS \"\n",
    "          \"(SELECT comm_id, \"\n",
    "          \" CASE WHEN (name = '') \"\n",
    "          \"      THEN NULL \"\n",
    "          \"      ELSE LOWER(CONCAT_WS(' ', name)) \"\n",
    "          \" END AS name, \"  \n",
    "           \" CASE WHEN (address_1 = '' AND address_2 = '') \"\n",
    "          \"      THEN NULL \"\n",
    "          \"      ELSE LOWER(CONCAT_WS(' ', address_1, address_2)) \"\n",
    "          \" END AS address, \" \n",
    "          \" LOWER(city) AS city, \"\n",
    "          \" LOWER(state) AS state, \"\n",
    "          \" LOWER(zip) AS zip \"\n",
    "          \" FROM committees)\")\n",
    "\n",
    "c.execute(\"CREATE INDEX processed_committee_idx ON processed_committees (comm_id)\")\n",
    "print(\"Done.\")\n",
    "conn.commit()"
   ]
  },
  {
   "cell_type": "code",
   "execution_count": null,
   "metadata": {},
   "outputs": [],
   "source": []
  }
 ],
 "metadata": {
  "kernelspec": {
   "display_name": "Python 3",
   "language": "python",
   "name": "python3"
  },
  "language_info": {
   "codemirror_mode": {
    "name": "ipython",
    "version": 3
   },
   "file_extension": ".py",
   "mimetype": "text/x-python",
   "name": "python",
   "nbconvert_exporter": "python",
   "pygments_lexer": "ipython3",
   "version": "3.9.2"
  }
 },
 "nbformat": 4,
 "nbformat_minor": 4
}
